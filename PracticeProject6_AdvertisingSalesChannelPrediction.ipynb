{
 "cells": [
  {
   "cell_type": "markdown",
   "id": "7e646f00",
   "metadata": {
    "slideshow": {
     "slide_type": "slide"
    }
   },
   "source": [
    "# Practice Project 6_Advertising Sales Channel Prediction"
   ]
  },
  {
   "cell_type": "markdown",
   "id": "91eb1adf",
   "metadata": {
    "slideshow": {
     "slide_type": "subslide"
    }
   },
   "source": [
    "# Advertising Sales Channel Prediction is a regressio based problem statement to predict sales from different sales channels. The case study of Sales channel includes the detailed study of TV, radio and newspaper channel to build a predictive model to predict the total sales generated from all the sales channel."
   ]
  },
  {
   "cell_type": "markdown",
   "id": "c49831bf",
   "metadata": {
    "slideshow": {
     "slide_type": "notes"
    }
   },
   "source": [
    "# Importing Data From Github repository dsrscientist/DSData/master/Advertising.csv"
   ]
  },
  {
   "cell_type": "code",
   "execution_count": 1,
   "id": "f6e066f2",
   "metadata": {
    "scrolled": false
   },
   "outputs": [
    {
     "data": {
      "text/html": [
       "<div>\n",
       "<style scoped>\n",
       "    .dataframe tbody tr th:only-of-type {\n",
       "        vertical-align: middle;\n",
       "    }\n",
       "\n",
       "    .dataframe tbody tr th {\n",
       "        vertical-align: top;\n",
       "    }\n",
       "\n",
       "    .dataframe thead th {\n",
       "        text-align: right;\n",
       "    }\n",
       "</style>\n",
       "<table border=\"1\" class=\"dataframe\">\n",
       "  <thead>\n",
       "    <tr style=\"text-align: right;\">\n",
       "      <th></th>\n",
       "      <th>TV</th>\n",
       "      <th>radio</th>\n",
       "      <th>newspaper</th>\n",
       "      <th>sales</th>\n",
       "    </tr>\n",
       "  </thead>\n",
       "  <tbody>\n",
       "    <tr>\n",
       "      <th>0</th>\n",
       "      <td>230.1</td>\n",
       "      <td>37.8</td>\n",
       "      <td>69.2</td>\n",
       "      <td>22.1</td>\n",
       "    </tr>\n",
       "    <tr>\n",
       "      <th>1</th>\n",
       "      <td>44.5</td>\n",
       "      <td>39.3</td>\n",
       "      <td>45.1</td>\n",
       "      <td>10.4</td>\n",
       "    </tr>\n",
       "    <tr>\n",
       "      <th>2</th>\n",
       "      <td>17.2</td>\n",
       "      <td>45.9</td>\n",
       "      <td>69.3</td>\n",
       "      <td>9.3</td>\n",
       "    </tr>\n",
       "    <tr>\n",
       "      <th>3</th>\n",
       "      <td>151.5</td>\n",
       "      <td>41.3</td>\n",
       "      <td>58.5</td>\n",
       "      <td>18.5</td>\n",
       "    </tr>\n",
       "    <tr>\n",
       "      <th>4</th>\n",
       "      <td>180.8</td>\n",
       "      <td>10.8</td>\n",
       "      <td>58.4</td>\n",
       "      <td>12.9</td>\n",
       "    </tr>\n",
       "    <tr>\n",
       "      <th>...</th>\n",
       "      <td>...</td>\n",
       "      <td>...</td>\n",
       "      <td>...</td>\n",
       "      <td>...</td>\n",
       "    </tr>\n",
       "    <tr>\n",
       "      <th>195</th>\n",
       "      <td>38.2</td>\n",
       "      <td>3.7</td>\n",
       "      <td>13.8</td>\n",
       "      <td>7.6</td>\n",
       "    </tr>\n",
       "    <tr>\n",
       "      <th>196</th>\n",
       "      <td>94.2</td>\n",
       "      <td>4.9</td>\n",
       "      <td>8.1</td>\n",
       "      <td>9.7</td>\n",
       "    </tr>\n",
       "    <tr>\n",
       "      <th>197</th>\n",
       "      <td>177.0</td>\n",
       "      <td>9.3</td>\n",
       "      <td>6.4</td>\n",
       "      <td>12.8</td>\n",
       "    </tr>\n",
       "    <tr>\n",
       "      <th>198</th>\n",
       "      <td>283.6</td>\n",
       "      <td>42.0</td>\n",
       "      <td>66.2</td>\n",
       "      <td>25.5</td>\n",
       "    </tr>\n",
       "    <tr>\n",
       "      <th>199</th>\n",
       "      <td>232.1</td>\n",
       "      <td>8.6</td>\n",
       "      <td>8.7</td>\n",
       "      <td>13.4</td>\n",
       "    </tr>\n",
       "  </tbody>\n",
       "</table>\n",
       "<p>200 rows × 4 columns</p>\n",
       "</div>"
      ],
      "text/plain": [
       "        TV  radio  newspaper  sales\n",
       "0    230.1   37.8       69.2   22.1\n",
       "1     44.5   39.3       45.1   10.4\n",
       "2     17.2   45.9       69.3    9.3\n",
       "3    151.5   41.3       58.5   18.5\n",
       "4    180.8   10.8       58.4   12.9\n",
       "..     ...    ...        ...    ...\n",
       "195   38.2    3.7       13.8    7.6\n",
       "196   94.2    4.9        8.1    9.7\n",
       "197  177.0    9.3        6.4   12.8\n",
       "198  283.6   42.0       66.2   25.5\n",
       "199  232.1    8.6        8.7   13.4\n",
       "\n",
       "[200 rows x 4 columns]"
      ]
     },
     "execution_count": 1,
     "metadata": {},
     "output_type": "execute_result"
    }
   ],
   "source": [
    "import pandas as pd\n",
    "data=pd.read_csv('https://raw.githubusercontent.com/dsrscientist/DSData/master/Advertising.csv')\n",
    "data=data.drop('Unnamed: 0', axis=1)\n",
    "data"
   ]
  },
  {
   "cell_type": "code",
   "execution_count": 2,
   "id": "55754a52",
   "metadata": {
    "scrolled": false
   },
   "outputs": [
    {
     "name": "stdout",
     "output_type": "stream",
     "text": [
      "DataFrame View: \n",
      "View 1: Head View: \n",
      "\n",
      "      TV  radio  newspaper  sales\n",
      "0  230.1   37.8       69.2   22.1\n",
      "1   44.5   39.3       45.1   10.4\n",
      "2   17.2   45.9       69.3    9.3\n",
      "3  151.5   41.3       58.5   18.5\n",
      "4  180.8   10.8       58.4   12.9\n",
      "\n",
      "View 2: Sample View: \n",
      "\n",
      "       TV  radio  newspaper  sales\n",
      "117  76.4    0.8       14.8    9.4\n",
      "\n",
      "View 3: Tail View: \n",
      "\n",
      "        TV  radio  newspaper  sales\n",
      "195   38.2    3.7       13.8    7.6\n",
      "196   94.2    4.9        8.1    9.7\n",
      "197  177.0    9.3        6.4   12.8\n",
      "198  283.6   42.0       66.2   25.5\n",
      "199  232.1    8.6        8.7   13.4\n",
      "\n"
     ]
    }
   ],
   "source": [
    "print('DataFrame View: ')\n",
    "print('View 1: Head View: ', end='\\n'*2)\n",
    "print(data.head(), end='\\n'*2)\n",
    "print('View 2: Sample View: ', end='\\n'*2)\n",
    "print(data.sample(), end='\\n'*2)\n",
    "print('View 3: Tail View: ', end='\\n'*2)\n",
    "print(data.tail(), end='\\n'*2)"
   ]
  },
  {
   "cell_type": "code",
   "execution_count": 3,
   "id": "0e825033",
   "metadata": {
    "scrolled": false
   },
   "outputs": [
    {
     "data": {
      "text/plain": [
       "Index(['TV', 'radio', 'newspaper', 'sales'], dtype='object')"
      ]
     },
     "execution_count": 3,
     "metadata": {},
     "output_type": "execute_result"
    }
   ],
   "source": [
    "data.columns"
   ]
  },
  {
   "cell_type": "code",
   "execution_count": 4,
   "id": "11d2f17c",
   "metadata": {
    "scrolled": false
   },
   "outputs": [
    {
     "data": {
      "text/plain": [
       "(200, 4)"
      ]
     },
     "execution_count": 4,
     "metadata": {},
     "output_type": "execute_result"
    }
   ],
   "source": [
    "data.shape"
   ]
  },
  {
   "cell_type": "code",
   "execution_count": 5,
   "id": "d2480c24",
   "metadata": {
    "scrolled": false
   },
   "outputs": [
    {
     "data": {
      "text/plain": [
       "(pandas.core.frame.DataFrame, pandas.core.indexes.base.Index)"
      ]
     },
     "execution_count": 5,
     "metadata": {},
     "output_type": "execute_result"
    }
   ],
   "source": [
    "type(data), type(data.columns)"
   ]
  },
  {
   "cell_type": "code",
   "execution_count": 6,
   "id": "b61c113d",
   "metadata": {
    "scrolled": false
   },
   "outputs": [
    {
     "data": {
      "text/plain": [
       "TV           0\n",
       "radio        0\n",
       "newspaper    0\n",
       "sales        0\n",
       "dtype: int64"
      ]
     },
     "execution_count": 6,
     "metadata": {},
     "output_type": "execute_result"
    }
   ],
   "source": [
    "data.isnull().sum()"
   ]
  },
  {
   "cell_type": "code",
   "execution_count": 7,
   "id": "c53be321",
   "metadata": {
    "scrolled": false
   },
   "outputs": [
    {
     "data": {
      "text/plain": [
       "False"
      ]
     },
     "execution_count": 7,
     "metadata": {},
     "output_type": "execute_result"
    }
   ],
   "source": [
    "data.isna().values.any()"
   ]
  },
  {
   "cell_type": "markdown",
   "id": "e5ee7eb0",
   "metadata": {
    "slideshow": {
     "slide_type": "notes"
    }
   },
   "source": [
    "# Observations:\n",
    "1. There are 200 rows and 4 columns.\n",
    "2. There are 0 categorical columns and 4 continuous columns.\n",
    "3. Therefore, useful columns are very low.\n",
    "4. There are no null or missing values, hence, imputation and missing values traeatment are not required."
   ]
  },
  {
   "cell_type": "code",
   "execution_count": 8,
   "id": "e65f5dd4",
   "metadata": {
    "scrolled": false
   },
   "outputs": [
    {
     "name": "stdout",
     "output_type": "stream",
     "text": [
      "<class 'pandas.core.frame.DataFrame'>\n",
      "RangeIndex: 200 entries, 0 to 199\n",
      "Data columns (total 4 columns):\n",
      " #   Column     Non-Null Count  Dtype  \n",
      "---  ------     --------------  -----  \n",
      " 0   TV         200 non-null    float64\n",
      " 1   radio      200 non-null    float64\n",
      " 2   newspaper  200 non-null    float64\n",
      " 3   sales      200 non-null    float64\n",
      "dtypes: float64(4)\n",
      "memory usage: 6.4 KB\n"
     ]
    }
   ],
   "source": [
    "data.info()"
   ]
  },
  {
   "cell_type": "code",
   "execution_count": 9,
   "id": "c77e6621",
   "metadata": {
    "scrolled": false
   },
   "outputs": [
    {
     "data": {
      "text/plain": [
       "False"
      ]
     },
     "execution_count": 9,
     "metadata": {},
     "output_type": "execute_result"
    }
   ],
   "source": [
    "data.isna().values.any()"
   ]
  },
  {
   "cell_type": "code",
   "execution_count": 10,
   "id": "6c1952b0",
   "metadata": {
    "scrolled": false
   },
   "outputs": [
    {
     "data": {
      "text/plain": [
       "TV           False\n",
       "radio        False\n",
       "newspaper    False\n",
       "sales        False\n",
       "dtype: bool"
      ]
     },
     "execution_count": 10,
     "metadata": {},
     "output_type": "execute_result"
    }
   ],
   "source": [
    "data.isnull().any()"
   ]
  },
  {
   "cell_type": "markdown",
   "id": "1f11e144",
   "metadata": {},
   "source": [
    "# EDA"
   ]
  },
  {
   "cell_type": "code",
   "execution_count": 11,
   "id": "b00b3186",
   "metadata": {
    "scrolled": false
   },
   "outputs": [
    {
     "data": {
      "text/plain": [
       "<seaborn.axisgrid.PairGrid at 0x1e89c04efd0>"
      ]
     },
     "execution_count": 11,
     "metadata": {},
     "output_type": "execute_result"
    },
    {
     "data": {
      "image/png": "[encoded data removed]",
      "text/plain": [
       "<Figure size 720x720 with 20 Axes>"
      ]
     },
     "metadata": {
      "needs_background": "light"
     },
     "output_type": "display_data"
    }
   ],
   "source": [
    "import seaborn as sns\n",
    "sns.pairplot(data)"
   ]
  },
  {
   "cell_type": "code",
   "execution_count": 12,
   "id": "30a24d80",
   "metadata": {
    "scrolled": false
   },
   "outputs": [
    {
     "data": {
      "text/html": [
       "<div>\n",
       "<style scoped>\n",
       "    .dataframe tbody tr th:only-of-type {\n",
       "        vertical-align: middle;\n",
       "    }\n",
       "\n",
       "    .dataframe tbody tr th {\n",
       "        vertical-align: top;\n",
       "    }\n",
       "\n",
       "    .dataframe thead th {\n",
       "        text-align: right;\n",
       "    }\n",
       "</style>\n",
       "<table border=\"1\" class=\"dataframe\">\n",
       "  <thead>\n",
       "    <tr style=\"text-align: right;\">\n",
       "      <th></th>\n",
       "      <th>TV</th>\n",
       "      <th>radio</th>\n",
       "      <th>newspaper</th>\n",
       "      <th>sales</th>\n",
       "    </tr>\n",
       "  </thead>\n",
       "  <tbody>\n",
       "    <tr>\n",
       "      <th>TV</th>\n",
       "      <td>1.000000</td>\n",
       "      <td>0.054809</td>\n",
       "      <td>0.056648</td>\n",
       "      <td>0.782224</td>\n",
       "    </tr>\n",
       "    <tr>\n",
       "      <th>radio</th>\n",
       "      <td>0.054809</td>\n",
       "      <td>1.000000</td>\n",
       "      <td>0.354104</td>\n",
       "      <td>0.576223</td>\n",
       "    </tr>\n",
       "    <tr>\n",
       "      <th>newspaper</th>\n",
       "      <td>0.056648</td>\n",
       "      <td>0.354104</td>\n",
       "      <td>1.000000</td>\n",
       "      <td>0.228299</td>\n",
       "    </tr>\n",
       "    <tr>\n",
       "      <th>sales</th>\n",
       "      <td>0.782224</td>\n",
       "      <td>0.576223</td>\n",
       "      <td>0.228299</td>\n",
       "      <td>1.000000</td>\n",
       "    </tr>\n",
       "  </tbody>\n",
       "</table>\n",
       "</div>"
      ],
      "text/plain": [
       "                 TV     radio  newspaper     sales\n",
       "TV         1.000000  0.054809   0.056648  0.782224\n",
       "radio      0.054809  1.000000   0.354104  0.576223\n",
       "newspaper  0.056648  0.354104   1.000000  0.228299\n",
       "sales      0.782224  0.576223   0.228299  1.000000"
      ]
     },
     "execution_count": 12,
     "metadata": {},
     "output_type": "execute_result"
    }
   ],
   "source": [
    "data.corr()"
   ]
  },
  {
   "cell_type": "code",
   "execution_count": 13,
   "id": "dbc63961",
   "metadata": {
    "scrolled": false
   },
   "outputs": [
    {
     "data": {
      "text/plain": [
       "TV           0.782224\n",
       "radio        0.576223\n",
       "newspaper    0.228299\n",
       "sales        1.000000\n",
       "Name: sales, dtype: float64"
      ]
     },
     "execution_count": 13,
     "metadata": {},
     "output_type": "execute_result"
    }
   ],
   "source": [
    "data.corr()['sales']"
   ]
  },
  {
   "cell_type": "code",
   "execution_count": 14,
   "id": "80624895",
   "metadata": {
    "scrolled": false
   },
   "outputs": [
    {
     "data": {
      "text/plain": [
       "<AxesSubplot:>"
      ]
     },
     "execution_count": 14,
     "metadata": {},
     "output_type": "execute_result"
    },
    {
     "data": {
      "image/png": "[encoded data removed]",
      "text/plain": [
       "<Figure size 1512x720 with 2 Axes>"
      ]
     },
     "metadata": {
      "needs_background": "light"
     },
     "output_type": "display_data"
    }
   ],
   "source": [
    "import matplotlib.pyplot as plt\n",
    "plt.figure(figsize=(21,10))\n",
    "sns.heatmap(data.corr(), annot=True, linewidths=0.5, linecolor='black', fmt='.2f', cmap='twilight')"
   ]
  },
  {
   "cell_type": "code",
   "execution_count": 15,
   "id": "e45b0ee6",
   "metadata": {
    "scrolled": false
   },
   "outputs": [
    {
     "data": {
      "image/png": "[encoded data removed]",
      "text/plain": [
       "<Figure size 1440x864 with 2 Axes>"
      ]
     },
     "metadata": {
      "needs_background": "light"
     },
     "output_type": "display_data"
    }
   ],
   "source": [
    "import numpy as np\n",
    "mask = np.zeros_like(round(data.describe()[1:].transpose(),2))\n",
    "mask[np.triu_indices_from(mask)] = True\n",
    "plt.figure(figsize=(20,12))\n",
    "sns.heatmap(round(data.describe()[1:].transpose(),2), linewidth=2, annot=True, fmt='.2f', square=False, cmap=\"Spectral\")\n",
    "plt.xticks(fontsize=20)\n",
    "plt.yticks(fontsize=10)\n",
    "plt.title('Variables Summary')\n",
    "plt.savefig('heatmap.png')\n",
    "plt.show()"
   ]
  },
  {
   "cell_type": "code",
   "execution_count": 16,
   "id": "464c3b9c",
   "metadata": {
    "scrolled": false
   },
   "outputs": [
    {
     "name": "stdout",
     "output_type": "stream",
     "text": [
      "<class 'pandas.core.frame.DataFrame'>\n",
      "RangeIndex: 200 entries, 0 to 199\n",
      "Data columns (total 4 columns):\n",
      " #   Column     Non-Null Count  Dtype  \n",
      "---  ------     --------------  -----  \n",
      " 0   TV         200 non-null    float64\n",
      " 1   radio      200 non-null    float64\n",
      " 2   newspaper  200 non-null    float64\n",
      " 3   sales      200 non-null    float64\n",
      "dtypes: float64(4)\n",
      "memory usage: 6.4 KB\n"
     ]
    }
   ],
   "source": [
    "data.info()"
   ]
  },
  {
   "cell_type": "code",
   "execution_count": null,
   "id": "828a2d22",
   "metadata": {
    "scrolled": false
   },
   "outputs": [],
   "source": [
    "data.select_dtypes(include = [np.number]).columns"
   ]
  },
  {
   "cell_type": "code",
   "execution_count": 20,
   "id": "6bef6bb8",
   "metadata": {
    "scrolled": true
   },
   "outputs": [
    {
     "data": {
      "image/png": "[encoded data removed]",
      "text/plain": [
       "<Figure size 648x6480 with 4 Axes>"
      ]
     },
     "metadata": {
      "needs_background": "light"
     },
     "output_type": "display_data"
    }
   ],
   "source": [
    "import numpy as np\n",
    "import warnings\n",
    "warnings.filterwarnings('ignore')\n",
    "colist=data.select_dtypes(include = [np.number]).columns\n",
    "ncol=3\n",
    "nrows=10\n",
    "plt.figure(figsize=(ncol*3, ncol*30))\n",
    "for x in range(0,len(colist)):\n",
    "    sns.set_theme(style='whitegrid')\n",
    "    plt.subplot(nrows, ncol, x+1)\n",
    "    sns.boxplot(data[colist[x]], color='Black', palette='Set3')\n",
    "    plt.tight_layout()"
   ]
  },
  {
   "cell_type": "code",
   "execution_count": 21,
   "id": "e3b947d3",
   "metadata": {
    "scrolled": false
   },
   "outputs": [
    {
     "data": {
      "text/plain": [
       "TV          -0.069853\n",
       "radio        0.094175\n",
       "newspaper    0.894720\n",
       "sales        0.407571\n",
       "dtype: float64"
      ]
     },
     "execution_count": 21,
     "metadata": {},
     "output_type": "execute_result"
    }
   ],
   "source": [
    "data.skew()"
   ]
  },
  {
   "cell_type": "code",
   "execution_count": 22,
   "id": "675e8e0a",
   "metadata": {
    "scrolled": true
   },
   "outputs": [
    {
     "data": {
      "image/png": "[encoded data removed]",
      "text/plain": [
       "<Figure size 648x6480 with 4 Axes>"
      ]
     },
     "metadata": {},
     "output_type": "display_data"
    }
   ],
   "source": [
    "colist=data.select_dtypes(include = [np.number]).columns\n",
    "ncol=3\n",
    "nrows=10\n",
    "plt.figure(figsize=(ncol*3, ncol*30))\n",
    "for x in range(0,len(colist)):\n",
    "    sns.set_theme(style='whitegrid')\n",
    "    plt.subplot(nrows, ncol, x+1)\n",
    "    sns.distplot(data[colist[x]])\n",
    "    plt.tight_layout()"
   ]
  },
  {
   "cell_type": "markdown",
   "id": "4fd74720",
   "metadata": {},
   "source": [
    "# Observations\n",
    "1. All the features share positive to strong positive correlation with each other.\n",
    "2. All the features share positive to strong positive correlation with each other.\n",
    "3. Features with strong positive correlation with sales are:\n",
    "TV           0.782224\n",
    "radio        0.576223\n",
    "4. Correlation of feature with itself is of no  relevance.\n",
    "5. Acceptable skewness is +/- 0.65\n",
    "6. Left Skewness is found in:\n",
    "TV          -0.069853\n",
    "7. Right Skewness is found in:\n",
    "newspaper    0.894720\n",
    "sales        0.407571\n",
    "8. High number of outliers can be noticed in newspaper column."
   ]
  },
  {
   "cell_type": "markdown",
   "id": "ac8492fb",
   "metadata": {},
   "source": [
    "# Z Score: Outliers Treatment"
   ]
  },
  {
   "cell_type": "code",
   "execution_count": 23,
   "id": "33dc68ee",
   "metadata": {
    "scrolled": false
   },
   "outputs": [
    {
     "data": {
      "text/plain": [
       "(200, 4)"
      ]
     },
     "execution_count": 23,
     "metadata": {},
     "output_type": "execute_result"
    }
   ],
   "source": [
    "import numpy as np\n",
    "from scipy.stats import stats\n",
    "score=np.abs(stats.zscore(data))\n",
    "score.shape"
   ]
  },
  {
   "cell_type": "code",
   "execution_count": 24,
   "id": "83d50721",
   "metadata": {
    "scrolled": false
   },
   "outputs": [
    {
     "name": "stdout",
     "output_type": "stream",
     "text": [
      "(array([ 16, 101], dtype=int64), array([2, 2], dtype=int64))\n"
     ]
    }
   ],
   "source": [
    "#threshold=(-3,3)\n",
    "threshold=3\n",
    "print(np.where(score>3))"
   ]
  },
  {
   "cell_type": "code",
   "execution_count": 25,
   "id": "381e4d02",
   "metadata": {
    "scrolled": false
   },
   "outputs": [
    {
     "data": {
      "text/plain": [
       "TV           180.8\n",
       "radio         10.8\n",
       "newspaper     58.4\n",
       "sales         12.9\n",
       "Name: 4, dtype: float64"
      ]
     },
     "execution_count": 25,
     "metadata": {},
     "output_type": "execute_result"
    }
   ],
   "source": [
    "data.iloc[4]"
   ]
  },
  {
   "cell_type": "code",
   "execution_count": 26,
   "id": "1d7956e5",
   "metadata": {
    "scrolled": false
   },
   "outputs": [
    {
     "data": {
      "text/plain": [
       "2"
      ]
     },
     "execution_count": 26,
     "metadata": {},
     "output_type": "execute_result"
    }
   ],
   "source": [
    "len(np.where(score>3)[0])"
   ]
  },
  {
   "cell_type": "code",
   "execution_count": 27,
   "id": "84e693bb",
   "metadata": {
    "scrolled": false
   },
   "outputs": [
    {
     "data": {
      "text/html": [
       "<div>\n",
       "<style scoped>\n",
       "    .dataframe tbody tr th:only-of-type {\n",
       "        vertical-align: middle;\n",
       "    }\n",
       "\n",
       "    .dataframe tbody tr th {\n",
       "        vertical-align: top;\n",
       "    }\n",
       "\n",
       "    .dataframe thead th {\n",
       "        text-align: right;\n",
       "    }\n",
       "</style>\n",
       "<table border=\"1\" class=\"dataframe\">\n",
       "  <thead>\n",
       "    <tr style=\"text-align: right;\">\n",
       "      <th></th>\n",
       "      <th>TV</th>\n",
       "      <th>radio</th>\n",
       "      <th>newspaper</th>\n",
       "      <th>sales</th>\n",
       "    </tr>\n",
       "  </thead>\n",
       "  <tbody>\n",
       "    <tr>\n",
       "      <th>0</th>\n",
       "      <td>230.1</td>\n",
       "      <td>37.8</td>\n",
       "      <td>69.2</td>\n",
       "      <td>22.1</td>\n",
       "    </tr>\n",
       "    <tr>\n",
       "      <th>1</th>\n",
       "      <td>44.5</td>\n",
       "      <td>39.3</td>\n",
       "      <td>45.1</td>\n",
       "      <td>10.4</td>\n",
       "    </tr>\n",
       "    <tr>\n",
       "      <th>2</th>\n",
       "      <td>17.2</td>\n",
       "      <td>45.9</td>\n",
       "      <td>69.3</td>\n",
       "      <td>9.3</td>\n",
       "    </tr>\n",
       "    <tr>\n",
       "      <th>3</th>\n",
       "      <td>151.5</td>\n",
       "      <td>41.3</td>\n",
       "      <td>58.5</td>\n",
       "      <td>18.5</td>\n",
       "    </tr>\n",
       "    <tr>\n",
       "      <th>4</th>\n",
       "      <td>180.8</td>\n",
       "      <td>10.8</td>\n",
       "      <td>58.4</td>\n",
       "      <td>12.9</td>\n",
       "    </tr>\n",
       "    <tr>\n",
       "      <th>...</th>\n",
       "      <td>...</td>\n",
       "      <td>...</td>\n",
       "      <td>...</td>\n",
       "      <td>...</td>\n",
       "    </tr>\n",
       "    <tr>\n",
       "      <th>195</th>\n",
       "      <td>38.2</td>\n",
       "      <td>3.7</td>\n",
       "      <td>13.8</td>\n",
       "      <td>7.6</td>\n",
       "    </tr>\n",
       "    <tr>\n",
       "      <th>196</th>\n",
       "      <td>94.2</td>\n",
       "      <td>4.9</td>\n",
       "      <td>8.1</td>\n",
       "      <td>9.7</td>\n",
       "    </tr>\n",
       "    <tr>\n",
       "      <th>197</th>\n",
       "      <td>177.0</td>\n",
       "      <td>9.3</td>\n",
       "      <td>6.4</td>\n",
       "      <td>12.8</td>\n",
       "    </tr>\n",
       "    <tr>\n",
       "      <th>198</th>\n",
       "      <td>283.6</td>\n",
       "      <td>42.0</td>\n",
       "      <td>66.2</td>\n",
       "      <td>25.5</td>\n",
       "    </tr>\n",
       "    <tr>\n",
       "      <th>199</th>\n",
       "      <td>232.1</td>\n",
       "      <td>8.6</td>\n",
       "      <td>8.7</td>\n",
       "      <td>13.4</td>\n",
       "    </tr>\n",
       "  </tbody>\n",
       "</table>\n",
       "<p>198 rows × 4 columns</p>\n",
       "</div>"
      ],
      "text/plain": [
       "        TV  radio  newspaper  sales\n",
       "0    230.1   37.8       69.2   22.1\n",
       "1     44.5   39.3       45.1   10.4\n",
       "2     17.2   45.9       69.3    9.3\n",
       "3    151.5   41.3       58.5   18.5\n",
       "4    180.8   10.8       58.4   12.9\n",
       "..     ...    ...        ...    ...\n",
       "195   38.2    3.7       13.8    7.6\n",
       "196   94.2    4.9        8.1    9.7\n",
       "197  177.0    9.3        6.4   12.8\n",
       "198  283.6   42.0       66.2   25.5\n",
       "199  232.1    8.6        8.7   13.4\n",
       "\n",
       "[198 rows x 4 columns]"
      ]
     },
     "execution_count": 27,
     "metadata": {},
     "output_type": "execute_result"
    }
   ],
   "source": [
    "data_new=data[(score<3).all(axis=1)]\n",
    "data_new"
   ]
  },
  {
   "cell_type": "markdown",
   "id": "40e8dfc4",
   "metadata": {},
   "source": [
    "# In this section, I have identified outliers in 101 rows and removed those from the dataset, to make more precise prediction."
   ]
  },
  {
   "cell_type": "markdown",
   "id": "d8ac85e1",
   "metadata": {},
   "source": [
    "# Vectorization"
   ]
  },
  {
   "cell_type": "code",
   "execution_count": 29,
   "id": "d6a3587e",
   "metadata": {
    "scrolled": false
   },
   "outputs": [
    {
     "data": {
      "text/html": [
       "<div>\n",
       "<style scoped>\n",
       "    .dataframe tbody tr th:only-of-type {\n",
       "        vertical-align: middle;\n",
       "    }\n",
       "\n",
       "    .dataframe tbody tr th {\n",
       "        vertical-align: top;\n",
       "    }\n",
       "\n",
       "    .dataframe thead th {\n",
       "        text-align: right;\n",
       "    }\n",
       "</style>\n",
       "<table border=\"1\" class=\"dataframe\">\n",
       "  <thead>\n",
       "    <tr style=\"text-align: right;\">\n",
       "      <th></th>\n",
       "      <th>TV</th>\n",
       "      <th>radio</th>\n",
       "      <th>newspaper</th>\n",
       "    </tr>\n",
       "  </thead>\n",
       "  <tbody>\n",
       "    <tr>\n",
       "      <th>0</th>\n",
       "      <td>230.1</td>\n",
       "      <td>37.8</td>\n",
       "      <td>69.2</td>\n",
       "    </tr>\n",
       "    <tr>\n",
       "      <th>1</th>\n",
       "      <td>44.5</td>\n",
       "      <td>39.3</td>\n",
       "      <td>45.1</td>\n",
       "    </tr>\n",
       "    <tr>\n",
       "      <th>2</th>\n",
       "      <td>17.2</td>\n",
       "      <td>45.9</td>\n",
       "      <td>69.3</td>\n",
       "    </tr>\n",
       "    <tr>\n",
       "      <th>3</th>\n",
       "      <td>151.5</td>\n",
       "      <td>41.3</td>\n",
       "      <td>58.5</td>\n",
       "    </tr>\n",
       "    <tr>\n",
       "      <th>4</th>\n",
       "      <td>180.8</td>\n",
       "      <td>10.8</td>\n",
       "      <td>58.4</td>\n",
       "    </tr>\n",
       "    <tr>\n",
       "      <th>...</th>\n",
       "      <td>...</td>\n",
       "      <td>...</td>\n",
       "      <td>...</td>\n",
       "    </tr>\n",
       "    <tr>\n",
       "      <th>195</th>\n",
       "      <td>38.2</td>\n",
       "      <td>3.7</td>\n",
       "      <td>13.8</td>\n",
       "    </tr>\n",
       "    <tr>\n",
       "      <th>196</th>\n",
       "      <td>94.2</td>\n",
       "      <td>4.9</td>\n",
       "      <td>8.1</td>\n",
       "    </tr>\n",
       "    <tr>\n",
       "      <th>197</th>\n",
       "      <td>177.0</td>\n",
       "      <td>9.3</td>\n",
       "      <td>6.4</td>\n",
       "    </tr>\n",
       "    <tr>\n",
       "      <th>198</th>\n",
       "      <td>283.6</td>\n",
       "      <td>42.0</td>\n",
       "      <td>66.2</td>\n",
       "    </tr>\n",
       "    <tr>\n",
       "      <th>199</th>\n",
       "      <td>232.1</td>\n",
       "      <td>8.6</td>\n",
       "      <td>8.7</td>\n",
       "    </tr>\n",
       "  </tbody>\n",
       "</table>\n",
       "<p>198 rows × 3 columns</p>\n",
       "</div>"
      ],
      "text/plain": [
       "        TV  radio  newspaper\n",
       "0    230.1   37.8       69.2\n",
       "1     44.5   39.3       45.1\n",
       "2     17.2   45.9       69.3\n",
       "3    151.5   41.3       58.5\n",
       "4    180.8   10.8       58.4\n",
       "..     ...    ...        ...\n",
       "195   38.2    3.7       13.8\n",
       "196   94.2    4.9        8.1\n",
       "197  177.0    9.3        6.4\n",
       "198  283.6   42.0       66.2\n",
       "199  232.1    8.6        8.7\n",
       "\n",
       "[198 rows x 3 columns]"
      ]
     },
     "execution_count": 29,
     "metadata": {},
     "output_type": "execute_result"
    }
   ],
   "source": [
    "x=data_new.drop('sales', axis=1)\n",
    "x"
   ]
  },
  {
   "cell_type": "code",
   "execution_count": 31,
   "id": "8ff7f55d",
   "metadata": {
    "scrolled": false
   },
   "outputs": [
    {
     "data": {
      "text/plain": [
       "0      22.1\n",
       "1      10.4\n",
       "2       9.3\n",
       "3      18.5\n",
       "4      12.9\n",
       "       ... \n",
       "195     7.6\n",
       "196     9.7\n",
       "197    12.8\n",
       "198    25.5\n",
       "199    13.4\n",
       "Name: sales, Length: 198, dtype: float64"
      ]
     },
     "execution_count": 31,
     "metadata": {},
     "output_type": "execute_result"
    }
   ],
   "source": [
    "y=data_new['sales']\n",
    "y"
   ]
  },
  {
   "cell_type": "markdown",
   "id": "3e3d53ef",
   "metadata": {},
   "source": [
    "# I have removed sales from the data and parsed all other features in  x vector, I have parsed sales in y vector."
   ]
  },
  {
   "cell_type": "markdown",
   "id": "e6110b35",
   "metadata": {},
   "source": [
    "# Standard Scaler Transformation And Variance Inflation Factor"
   ]
  },
  {
   "cell_type": "code",
   "execution_count": 32,
   "id": "a4be3c5b",
   "metadata": {
    "scrolled": false
   },
   "outputs": [
    {
     "data": {
      "text/html": [
       "<div>\n",
       "<style scoped>\n",
       "    .dataframe tbody tr th:only-of-type {\n",
       "        vertical-align: middle;\n",
       "    }\n",
       "\n",
       "    .dataframe tbody tr th {\n",
       "        vertical-align: top;\n",
       "    }\n",
       "\n",
       "    .dataframe thead th {\n",
       "        text-align: right;\n",
       "    }\n",
       "</style>\n",
       "<table border=\"1\" class=\"dataframe\">\n",
       "  <thead>\n",
       "    <tr style=\"text-align: right;\">\n",
       "      <th></th>\n",
       "      <th>TV</th>\n",
       "      <th>radio</th>\n",
       "      <th>newspaper</th>\n",
       "    </tr>\n",
       "  </thead>\n",
       "  <tbody>\n",
       "    <tr>\n",
       "      <th>0</th>\n",
       "      <td>0.978697</td>\n",
       "      <td>0.989521</td>\n",
       "      <td>1.932998</td>\n",
       "    </tr>\n",
       "    <tr>\n",
       "      <th>1</th>\n",
       "      <td>-1.199012</td>\n",
       "      <td>1.090705</td>\n",
       "      <td>0.751313</td>\n",
       "    </tr>\n",
       "    <tr>\n",
       "      <th>2</th>\n",
       "      <td>-1.519332</td>\n",
       "      <td>1.535913</td>\n",
       "      <td>1.937901</td>\n",
       "    </tr>\n",
       "    <tr>\n",
       "      <th>3</th>\n",
       "      <td>0.056456</td>\n",
       "      <td>1.225616</td>\n",
       "      <td>1.408349</td>\n",
       "    </tr>\n",
       "    <tr>\n",
       "      <th>4</th>\n",
       "      <td>0.400243</td>\n",
       "      <td>-0.831784</td>\n",
       "      <td>1.403446</td>\n",
       "    </tr>\n",
       "    <tr>\n",
       "      <th>...</th>\n",
       "      <td>...</td>\n",
       "      <td>...</td>\n",
       "      <td>...</td>\n",
       "    </tr>\n",
       "    <tr>\n",
       "      <th>193</th>\n",
       "      <td>-1.272932</td>\n",
       "      <td>-1.310720</td>\n",
       "      <td>-0.783407</td>\n",
       "    </tr>\n",
       "    <tr>\n",
       "      <th>194</th>\n",
       "      <td>-0.615864</td>\n",
       "      <td>-1.229773</td>\n",
       "      <td>-1.062892</td>\n",
       "    </tr>\n",
       "    <tr>\n",
       "      <th>195</th>\n",
       "      <td>0.355657</td>\n",
       "      <td>-0.932968</td>\n",
       "      <td>-1.146248</td>\n",
       "    </tr>\n",
       "    <tr>\n",
       "      <th>196</th>\n",
       "      <td>1.606431</td>\n",
       "      <td>1.272836</td>\n",
       "      <td>1.785900</td>\n",
       "    </tr>\n",
       "    <tr>\n",
       "      <th>197</th>\n",
       "      <td>1.002164</td>\n",
       "      <td>-0.980187</td>\n",
       "      <td>-1.033473</td>\n",
       "    </tr>\n",
       "  </tbody>\n",
       "</table>\n",
       "<p>198 rows × 3 columns</p>\n",
       "</div>"
      ],
      "text/plain": [
       "           TV     radio  newspaper\n",
       "0    0.978697  0.989521   1.932998\n",
       "1   -1.199012  1.090705   0.751313\n",
       "2   -1.519332  1.535913   1.937901\n",
       "3    0.056456  1.225616   1.408349\n",
       "4    0.400243 -0.831784   1.403446\n",
       "..        ...       ...        ...\n",
       "193 -1.272932 -1.310720  -0.783407\n",
       "194 -0.615864 -1.229773  -1.062892\n",
       "195  0.355657 -0.932968  -1.146248\n",
       "196  1.606431  1.272836   1.785900\n",
       "197  1.002164 -0.980187  -1.033473\n",
       "\n",
       "[198 rows x 3 columns]"
      ]
     },
     "execution_count": 32,
     "metadata": {},
     "output_type": "execute_result"
    }
   ],
   "source": [
    "import sklearn\n",
    "from sklearn.preprocessing import StandardScaler\n",
    "from statsmodels.stats.outliers_influence import variance_inflation_factor\n",
    "scaler=StandardScaler()\n",
    "X_scaled=scaler.fit_transform(x)\n",
    "X_scaled_frame=pd.DataFrame(X_scaled, columns=x.columns)\n",
    "X_scaled_frame"
   ]
  },
  {
   "cell_type": "code",
   "execution_count": 33,
   "id": "b1c48afc",
   "metadata": {
    "scrolled": false
   },
   "outputs": [
    {
     "data": {
      "text/html": [
       "<div>\n",
       "<style scoped>\n",
       "    .dataframe tbody tr th:only-of-type {\n",
       "        vertical-align: middle;\n",
       "    }\n",
       "\n",
       "    .dataframe tbody tr th {\n",
       "        vertical-align: top;\n",
       "    }\n",
       "\n",
       "    .dataframe thead th {\n",
       "        text-align: right;\n",
       "    }\n",
       "</style>\n",
       "<table border=\"1\" class=\"dataframe\">\n",
       "  <thead>\n",
       "    <tr style=\"text-align: right;\">\n",
       "      <th></th>\n",
       "      <th>vif</th>\n",
       "      <th>Features</th>\n",
       "    </tr>\n",
       "  </thead>\n",
       "  <tbody>\n",
       "    <tr>\n",
       "      <th>0</th>\n",
       "      <td>1.003863</td>\n",
       "      <td>TV</td>\n",
       "    </tr>\n",
       "    <tr>\n",
       "      <th>1</th>\n",
       "      <td>1.137887</td>\n",
       "      <td>radio</td>\n",
       "    </tr>\n",
       "    <tr>\n",
       "      <th>2</th>\n",
       "      <td>1.137631</td>\n",
       "      <td>newspaper</td>\n",
       "    </tr>\n",
       "  </tbody>\n",
       "</table>\n",
       "</div>"
      ],
      "text/plain": [
       "        vif   Features\n",
       "0  1.003863         TV\n",
       "1  1.137887      radio\n",
       "2  1.137631  newspaper"
      ]
     },
     "execution_count": 33,
     "metadata": {},
     "output_type": "execute_result"
    }
   ],
   "source": [
    "vif=pd.DataFrame()\n",
    "vif['vif']=[variance_inflation_factor(X_scaled, w) for w in range(X_scaled.shape[1])]\n",
    "vif['Features']=x.columns\n",
    "vif"
   ]
  },
  {
   "cell_type": "markdown",
   "id": "326258cc",
   "metadata": {},
   "source": [
    "# Since, all the features reflect low vif below 6, there is no need till now to reduce columns."
   ]
  },
  {
   "cell_type": "markdown",
   "id": "319331e3",
   "metadata": {},
   "source": [
    "# Feature Selection"
   ]
  },
  {
   "cell_type": "code",
   "execution_count": 34,
   "id": "14766341",
   "metadata": {
    "scrolled": false
   },
   "outputs": [],
   "source": [
    "from sklearn.feature_selection import f_classif, f_regression\n",
    "from sklearn.feature_selection import SelectKBest, SelectPercentile\n",
    "from sklearn.metrics import accuracy_score\n",
    "from sklearn.ensemble import RandomForestClassifier\n",
    "from sklearn.model_selection import train_test_split\n",
    "from sklearn.utils import shuffle\n",
    "from sklearn.feature_selection import VarianceThreshold"
   ]
  },
  {
   "cell_type": "code",
   "execution_count": 35,
   "id": "b4c244be",
   "metadata": {
    "scrolled": false
   },
   "outputs": [],
   "source": [
    "Xf_train, Xf_test, Y_train, Y_test=train_test_split(x,y,test_size=0.10)"
   ]
  },
  {
   "cell_type": "code",
   "execution_count": 36,
   "id": "e8d19d61",
   "metadata": {
    "scrolled": false
   },
   "outputs": [],
   "source": [
    "constant_filter=VarianceThreshold(threshold=0.04)\n",
    "constant_filter.fit(Xf_train)\n",
    "Xf_train_filter=constant_filter.transform(Xf_train)\n",
    "Xf_test_filter=constant_filter.transform(Xf_test)"
   ]
  },
  {
   "cell_type": "code",
   "execution_count": 37,
   "id": "46fae9a8",
   "metadata": {
    "scrolled": false
   },
   "outputs": [
    {
     "data": {
      "text/plain": [
       "<AxesSubplot:>"
      ]
     },
     "execution_count": 37,
     "metadata": {},
     "output_type": "execute_result"
    },
    {
     "data": {
      "image/png": "[encoded data removed]",
      "text/plain": [
       "<Figure size 720x1440 with 1 Axes>"
      ]
     },
     "metadata": {},
     "output_type": "display_data"
    }
   ],
   "source": [
    "sel=f_classif(Xf_train, Y_train)\n",
    "p_values=pd.Series(sel[1])\n",
    "p_values.index=Xf_train.columns\n",
    "p_values.sort_values(ascending=True, inplace=True)\n",
    "p_values.plot.bar(figsize=(10,20))"
   ]
  },
  {
   "cell_type": "code",
   "execution_count": 38,
   "id": "04bb8648",
   "metadata": {
    "scrolled": false
   },
   "outputs": [
    {
     "data": {
      "text/plain": [
       "Index(['TV', 'radio'], dtype='object')"
      ]
     },
     "execution_count": 38,
     "metadata": {},
     "output_type": "execute_result"
    }
   ],
   "source": [
    "p_values=p_values[p_values<0.05]\n",
    "p_values.index"
   ]
  },
  {
   "cell_type": "markdown",
   "id": "5e9df0bf",
   "metadata": {},
   "source": [
    "# P Values are an important component of feature selection, with significance level set to 0.05, Variance Threshold\n",
    "    ensemble technique returns with 95% confidence, all the features that have maximum explanatory capacity\n",
    "For the present dataset features with pvalues with less than 0.05 are:\n",
    "Index(['TV', 'radio'], dtype='object')"
   ]
  },
  {
   "cell_type": "code",
   "execution_count": 39,
   "id": "a818ed90",
   "metadata": {
    "scrolled": false
   },
   "outputs": [
    {
     "data": {
      "text/html": [
       "<div>\n",
       "<style scoped>\n",
       "    .dataframe tbody tr th:only-of-type {\n",
       "        vertical-align: middle;\n",
       "    }\n",
       "\n",
       "    .dataframe tbody tr th {\n",
       "        vertical-align: top;\n",
       "    }\n",
       "\n",
       "    .dataframe thead th {\n",
       "        text-align: right;\n",
       "    }\n",
       "</style>\n",
       "<table border=\"1\" class=\"dataframe\">\n",
       "  <thead>\n",
       "    <tr style=\"text-align: right;\">\n",
       "      <th></th>\n",
       "      <th>TV</th>\n",
       "      <th>radio</th>\n",
       "    </tr>\n",
       "  </thead>\n",
       "  <tbody>\n",
       "    <tr>\n",
       "      <th>166</th>\n",
       "      <td>17.9</td>\n",
       "      <td>37.6</td>\n",
       "    </tr>\n",
       "  </tbody>\n",
       "</table>\n",
       "</div>"
      ],
      "text/plain": [
       "       TV  radio\n",
       "166  17.9   37.6"
      ]
     },
     "execution_count": 39,
     "metadata": {},
     "output_type": "execute_result"
    }
   ],
   "source": [
    "import numpy as np\n",
    "x=x[['TV', 'radio']]\n",
    "x.sample()"
   ]
  },
  {
   "cell_type": "code",
   "execution_count": 40,
   "id": "c4e97d58",
   "metadata": {
    "scrolled": false
   },
   "outputs": [
    {
     "data": {
      "text/plain": [
       "62    15.7\n",
       "Name: sales, dtype: float64"
      ]
     },
     "execution_count": 40,
     "metadata": {},
     "output_type": "execute_result"
    }
   ],
   "source": [
    "y.sample()"
   ]
  },
  {
   "cell_type": "code",
   "execution_count": 41,
   "id": "fbde0181",
   "metadata": {
    "scrolled": false
   },
   "outputs": [
    {
     "data": {
      "text/plain": [
       "((198, 2), (198,))"
      ]
     },
     "execution_count": 41,
     "metadata": {},
     "output_type": "execute_result"
    }
   ],
   "source": [
    "x.shape, y.shape"
   ]
  },
  {
   "cell_type": "code",
   "execution_count": 42,
   "id": "a118b420",
   "metadata": {
    "scrolled": false
   },
   "outputs": [],
   "source": [
    "x_train,x_test,y_train,y_test=train_test_split(x,y,test_size=0.10)"
   ]
  },
  {
   "cell_type": "code",
   "execution_count": 43,
   "id": "1287afef",
   "metadata": {
    "scrolled": false
   },
   "outputs": [
    {
     "data": {
      "text/plain": [
       "((178, 2), (178,))"
      ]
     },
     "execution_count": 43,
     "metadata": {},
     "output_type": "execute_result"
    }
   ],
   "source": [
    "x_train.shape, y_train.shape"
   ]
  },
  {
   "cell_type": "markdown",
   "id": "5dafc12b",
   "metadata": {
    "slideshow": {
     "slide_type": "subslide"
    }
   },
   "source": [
    "# Model Development, Evaluation And Saving"
   ]
  },
  {
   "cell_type": "markdown",
   "id": "f1026435",
   "metadata": {
    "slideshow": {
     "slide_type": "fragment"
    }
   },
   "source": [
    "# Model 1"
   ]
  },
  {
   "cell_type": "markdown",
   "id": "286961f2",
   "metadata": {},
   "source": [
    "# Random Forest Regressor With Grid Search CV Hyper Parameter Tuning"
   ]
  },
  {
   "cell_type": "code",
   "execution_count": 44,
   "id": "482ce2e1",
   "metadata": {
    "scrolled": false
   },
   "outputs": [],
   "source": [
    "from sklearn.ensemble import RandomForestRegressor as el\n",
    "from sklearn.model_selection import cross_val_score\n",
    "from sklearn.datasets import load_boston\n",
    "from sklearn.model_selection import GridSearchCV\n",
    "from sklearn.model_selection import train_test_split\n",
    "from sklearn.ensemble import AdaBoostRegressor\n",
    "from sklearn.metrics import mean_squared_error, make_scorer, r2_score\n",
    "import matplotlib.pyplot as plt\n",
    "import pickle\n",
    "rfc2=el()\n",
    "params = {\n",
    " 'n_estimators': [50, 100],\n",
    " 'criterion' : ['squared_error','absolute_error', 'poisson'],\n",
    " 'bootstrap': [True, False],\n",
    " 'oob_score':[True, False],\n",
    " 'n_jobs':[None,-1],\n",
    " 'warm_start':[True, False]\n",
    "}\n",
    "score2 = make_scorer(mean_squared_error)\n",
    "gridsearch=GridSearchCV(rfc2, params, cv=5, return_train_score=True)\n",
    "gridsearch.fit(x_train, y_train)\n",
    "best_parameters=gridsearch.best_params_\n",
    "best_score=gridsearch.best_score_\n",
    "best_estim=gridsearch.best_estimator_\n",
    "best_estim.fit(x_train,y_train)\n",
    "y_pred2=best_estim.predict(x_train)\n",
    "mse2 = mean_squared_error(y_pred2,y_train)\n",
    "model3_train_score=best_estim.score(x_train, y_train)\n",
    "model3_test_score=best_estim.score(x_test, y_test)\n",
    "rmse2=np.sqrt(mse2)\n",
    "ytst_pred2=best_estim.predict(x_test)\n",
    "mse_test2=mean_squared_error(ytst_pred2,y_test)\n",
    "rmse_test2=np.sqrt(mse_test2)\n",
    "model3_save=pickle.dumps(best_estim)\n",
    "model3_prediction_train=pd.DataFrame({'y_train':y_train, 'yhat':y_pred2})\n",
    "model3_prediction_test=pd.DataFrame({'y_test':y_test, 'yhat':ytst_pred2})"
   ]
  },
  {
   "cell_type": "code",
   "execution_count": 45,
   "id": "bbc1d364",
   "metadata": {
    "scrolled": false
   },
   "outputs": [
    {
     "name": "stdout",
     "output_type": "stream",
     "text": [
      "Train Score:  0.9976271247396712\n",
      "Test Score:  0.9836631982186603\n",
      "MSE Train:  0.06428398876404467\n",
      "RMSE Train:  0.2535428736210992\n",
      "MSE Test:  0.4027936499999991\n",
      "RMSE Train:  0.6346602634480901\n"
     ]
    }
   ],
   "source": [
    "print('Train Score: ',model3_train_score)\n",
    "print('Test Score: ',model3_test_score)\n",
    "print('MSE Train: ',mse2)\n",
    "print('RMSE Train: ',rmse2)\n",
    "print('MSE Test: ',mse_test2)\n",
    "print('RMSE Train: ',rmse_test2)"
   ]
  },
  {
   "cell_type": "markdown",
   "id": "1f98411e",
   "metadata": {
    "slideshow": {
     "slide_type": "fragment"
    }
   },
   "source": [
    "\n",
    "# Model 2"
   ]
  },
  {
   "cell_type": "markdown",
   "id": "4b238753",
   "metadata": {},
   "source": [
    "# Random Forest Regressor With Default Hyper Parameter Tuning"
   ]
  },
  {
   "cell_type": "code",
   "execution_count": 46,
   "id": "a01ac1f9",
   "metadata": {
    "scrolled": false
   },
   "outputs": [
    {
     "name": "stdout",
     "output_type": "stream",
     "text": [
      "0.997412413698488\n",
      "0.9808599243173965\n",
      "0.00951973949366438\n",
      "0.9793132820643764\n"
     ]
    }
   ],
   "source": [
    "from sklearn.ensemble import RandomForestRegressor as el\n",
    "from sklearn.model_selection import cross_val_score\n",
    "rfc=el()\n",
    "rfc.fit(x_train, y_train)\n",
    "print(rfc.score(x_train, y_train))\n",
    "print(rfc.score(x_test, y_test))\n",
    "scores=cross_val_score(rfc, x, y, cv=5)\n",
    "cv_scores=scores.mean()\n",
    "print(scores.std())\n",
    "print(cv_scores)"
   ]
  },
  {
   "cell_type": "code",
   "execution_count": 47,
   "id": "e3264cb5",
   "metadata": {
    "scrolled": false
   },
   "outputs": [],
   "source": [
    "model3_save=pickle.dumps(rfc)"
   ]
  },
  {
   "cell_type": "markdown",
   "id": "d464a998",
   "metadata": {
    "slideshow": {
     "slide_type": "subslide"
    }
   },
   "source": [
    "# Model 3"
   ]
  },
  {
   "cell_type": "markdown",
   "id": "7a39f51b",
   "metadata": {},
   "source": [
    "# Ada Boost Regressor And Random Forest Regressor With Grid Search CV Hyper Parameter Tuning and Ada Boost Boosting"
   ]
  },
  {
   "cell_type": "code",
   "execution_count": 48,
   "id": "4d94bbce",
   "metadata": {
    "scrolled": false
   },
   "outputs": [
    {
     "name": "stdout",
     "output_type": "stream",
     "text": [
      "make_scorer(mean_squared_error)\n"
     ]
    }
   ],
   "source": [
    "from sklearn.datasets import load_boston\n",
    "from sklearn.model_selection import GridSearchCV\n",
    "from sklearn.model_selection import train_test_split\n",
    "from sklearn.ensemble import AdaBoostRegressor\n",
    "from sklearn.metrics import mean_squared_error, make_scorer, r2_score\n",
    "import matplotlib.pyplot as plt\n",
    "abreg = AdaBoostRegressor()\n",
    "params = {\n",
    " 'n_estimators': [50, 100],\n",
    " 'learning_rate' : [0.01, 0.05, 0.1, 0.5],\n",
    " 'loss' : ['linear', 'square', 'exponential']\n",
    " }\n",
    "score = make_scorer(mean_squared_error)\n",
    "print(score)"
   ]
  },
  {
   "cell_type": "code",
   "execution_count": 49,
   "id": "23ccff1a",
   "metadata": {
    "scrolled": false
   },
   "outputs": [
    {
     "data": {
      "text/plain": [
       "GridSearchCV(cv=5, error_score='raise',\n",
       "             estimator=AdaBoostRegressor(base_estimator=RandomForestRegressor()),\n",
       "             n_jobs=1,\n",
       "             param_grid={'learning_rate': [0.01, 0.05, 0.1, 0.5],\n",
       "                         'loss': ['linear', 'square', 'exponential'],\n",
       "                         'n_estimators': [50, 100]},\n",
       "             return_train_score=True)"
      ]
     },
     "execution_count": 49,
     "metadata": {},
     "output_type": "execute_result"
    }
   ],
   "source": [
    "gridsearch=GridSearchCV(abreg, params, cv=5, return_train_score=True)\n",
    "gridsearch.fit(x_train, y_train)\n",
    "GridSearchCV(cv=5, error_score='raise', estimator=AdaBoostRegressor(base_estimator=rfc, learning_rate=1.0,loss='linear', n_estimators=50, random_state=None), n_jobs=1, param_grid={'n_estimators': [50, 100],'learning_rate': [0.01, 0.05, 0.1, 0.5],'loss': ['linear', 'square', 'exponential']},pre_dispatch='2*n_jobs', refit=True, return_train_score=True,scoring=None, verbose=0) "
   ]
  },
  {
   "cell_type": "code",
   "execution_count": 50,
   "id": "2080bd1a",
   "metadata": {
    "scrolled": false
   },
   "outputs": [
    {
     "name": "stdout",
     "output_type": "stream",
     "text": [
      "{'learning_rate': 0.5, 'loss': 'exponential', 'n_estimators': 100}\n",
      "0.9599228913133991\n"
     ]
    }
   ],
   "source": [
    "print(gridsearch.best_params_)\n",
    "print(gridsearch.best_score_)"
   ]
  },
  {
   "cell_type": "code",
   "execution_count": 51,
   "id": "a6a8c7f8",
   "metadata": {
    "scrolled": false
   },
   "outputs": [
    {
     "name": "stdout",
     "output_type": "stream",
     "text": [
      "AdaBoostRegressor(learning_rate=0.5, loss='exponential', n_estimators=100)\n"
     ]
    }
   ],
   "source": [
    "best_estim=gridsearch.best_estimator_\n",
    "print(best_estim)"
   ]
  },
  {
   "cell_type": "code",
   "execution_count": 52,
   "id": "54582481",
   "metadata": {
    "scrolled": false
   },
   "outputs": [
    {
     "name": "stdout",
     "output_type": "stream",
     "text": [
      "Train Score:  0.9781290293197129\n",
      "Test score:  0.9661809330821027\n"
     ]
    }
   ],
   "source": [
    "best_estim.fit(x_train,y_train)\n",
    "\n",
    "ytr_pred=best_estim.predict(x_train)\n",
    "mse = mean_squared_error(ytr_pred,y_train)\n",
    "print('Train Score: ', best_estim.score(x_train, y_train))\n",
    "print('Test score: ', best_estim.score(x_test, y_test))"
   ]
  },
  {
   "cell_type": "code",
   "execution_count": 53,
   "id": "2c6e60b0",
   "metadata": {
    "scrolled": false,
    "slideshow": {
     "slide_type": "-"
    }
   },
   "outputs": [
    {
     "name": "stdout",
     "output_type": "stream",
     "text": [
      "mse_train 0.5925103847538662\n",
      "rmse_train 0.7697469615099927\n",
      "mse_test 0.8338293863009063\n",
      "rmse_test 0.9131425881541756\n"
     ]
    }
   ],
   "source": [
    "ytst_pred=best_estim.predict(x_test)\n",
    "print('mse_train', mse)\n",
    "print('rmse_train', np.sqrt(mse))\n",
    "mse_test = mean_squared_error(ytst_pred,y_test)\n",
    "print('mse_test', mse_test)\n",
    "print('rmse_test', np.sqrt(mse_test))"
   ]
  },
  {
   "cell_type": "code",
   "execution_count": 54,
   "id": "7cd56aab",
   "metadata": {
    "scrolled": false
   },
   "outputs": [],
   "source": [
    "model3_save=pickle.dumps(abreg)"
   ]
  },
  {
   "cell_type": "markdown",
   "id": "ee9d8c95",
   "metadata": {
    "slideshow": {
     "slide_type": "fragment"
    }
   },
   "source": [
    "# Model 4"
   ]
  },
  {
   "cell_type": "markdown",
   "id": "d2e821d7",
   "metadata": {},
   "source": [
    "# Extra Trees Regressor With Grid Search CV Hyper Parameter Tuning"
   ]
  },
  {
   "cell_type": "code",
   "execution_count": 55,
   "id": "6fb4e7e2",
   "metadata": {
    "scrolled": false
   },
   "outputs": [
    {
     "name": "stdout",
     "output_type": "stream",
     "text": [
      "make_scorer(mean_squared_error)\n"
     ]
    }
   ],
   "source": [
    "abreg = sklearn.ensemble.ExtraTreesRegressor()\n",
    "params = {\n",
    " 'n_estimators': [50, 100],\n",
    " 'max_samples' : [0.01, 0.05, 0.1, 0.5],\n",
    " 'bootstrap' : [True, False],\n",
    " 'oob_score' : [True, False],\n",
    " 'warm_start' : [True, False],\n",
    " 'n_jobs'  : [1,-1],\n",
    " 'random_state' : [0,10,100,1000,10000,100000,100000],\n",
    " 'criterion' : ['squared_error', 'absolute_error'] \n",
    " }\n",
    "score = make_scorer(mean_squared_error)\n",
    "print(score)"
   ]
  },
  {
   "cell_type": "code",
   "execution_count": 56,
   "id": "6b58038b",
   "metadata": {
    "scrolled": false
   },
   "outputs": [
    {
     "data": {
      "text/plain": [
       "GridSearchCV(cv=5, estimator=ExtraTreesRegressor(),\n",
       "             param_grid={'bootstrap': [True, False],\n",
       "                         'criterion': ['squared_error', 'absolute_error'],\n",
       "                         'max_samples': [0.01, 0.05, 0.1, 0.5],\n",
       "                         'n_estimators': [50, 100], 'n_jobs': [1, -1],\n",
       "                         'oob_score': [True, False],\n",
       "                         'random_state': [0, 10, 100, 1000, 10000, 100000,\n",
       "                                          100000],\n",
       "                         'warm_start': [True, False]},\n",
       "             return_train_score=True)"
      ]
     },
     "execution_count": 56,
     "metadata": {},
     "output_type": "execute_result"
    }
   ],
   "source": [
    "gridsearch=GridSearchCV(abreg, params, cv=5, return_train_score=True)\n",
    "gridsearch.fit(x_train, y_train)"
   ]
  },
  {
   "cell_type": "code",
   "execution_count": 57,
   "id": "ce9bce59",
   "metadata": {
    "scrolled": false
   },
   "outputs": [
    {
     "name": "stdout",
     "output_type": "stream",
     "text": [
      "{'bootstrap': True, 'criterion': 'squared_error', 'max_samples': 0.5, 'n_estimators': 50, 'n_jobs': 1, 'oob_score': True, 'random_state': 1000, 'warm_start': True}\n",
      "0.9847142262820257\n"
     ]
    }
   ],
   "source": [
    "print(gridsearch.best_params_)\n",
    "print(gridsearch.best_score_)"
   ]
  },
  {
   "cell_type": "code",
   "execution_count": 58,
   "id": "1c288980",
   "metadata": {
    "scrolled": false
   },
   "outputs": [
    {
     "name": "stdout",
     "output_type": "stream",
     "text": [
      "ExtraTreesRegressor(bootstrap=True, max_samples=0.5, n_estimators=50, n_jobs=1,\n",
      "                    oob_score=True, random_state=1000, warm_start=True)\n"
     ]
    }
   ],
   "source": [
    "best_estim=gridsearch.best_estimator_\n",
    "print(best_estim)"
   ]
  },
  {
   "cell_type": "code",
   "execution_count": 59,
   "id": "abe4211d",
   "metadata": {
    "scrolled": false
   },
   "outputs": [
    {
     "name": "stdout",
     "output_type": "stream",
     "text": [
      "Train Score:  0.994689077751013\n",
      "Test score:  0.9885970327227892\n",
      "mse_train:  0.14387914606741467\n",
      "rmse_train 0.37931404675732044\n",
      "mse_train:  0.2811469999999979\n",
      "rmse_train 0.5302329676660986\n"
     ]
    }
   ],
   "source": [
    "best_estim.fit(x_train,y_train)\n",
    "\n",
    "ytr_pred=best_estim.predict(x_train)\n",
    "yts_pred=best_estim.predict(x_test)\n",
    "mse = mean_squared_error(ytr_pred,y_train)\n",
    "print('Train Score: ', best_estim.score(x_train, y_train))\n",
    "print('Test score: ', best_estim.score(x_test, y_test))\n",
    "print('mse_train: ', mse)\n",
    "print('rmse_train', np.sqrt(mse))\n",
    "mse_test=mean_squared_error(yts_pred,y_test)\n",
    "print('mse_train: ', mse_test)\n",
    "print('rmse_train', np.sqrt(mse_test))"
   ]
  },
  {
   "cell_type": "code",
   "execution_count": 60,
   "id": "64c88799",
   "metadata": {
    "scrolled": false
   },
   "outputs": [],
   "source": [
    "model3_save=pickle.dumps(abreg)"
   ]
  },
  {
   "cell_type": "markdown",
   "id": "977ecad7",
   "metadata": {
    "slideshow": {
     "slide_type": "fragment"
    }
   },
   "source": [
    "# Model5"
   ]
  },
  {
   "cell_type": "markdown",
   "id": "bb7e0807",
   "metadata": {},
   "source": [
    "# Linear Regression With Intuitional Hyper Parameter Tuning"
   ]
  },
  {
   "cell_type": "code",
   "execution_count": 61,
   "id": "91fb44ae",
   "metadata": {
    "scrolled": false
   },
   "outputs": [
    {
     "data": {
      "text/plain": [
       "LinearRegression(n_jobs=-1, positive=True)"
      ]
     },
     "execution_count": 61,
     "metadata": {},
     "output_type": "execute_result"
    }
   ],
   "source": [
    "from sklearn.linear_model import LinearRegression\n",
    "lm=LinearRegression(fit_intercept=True,n_jobs=-1, positive=True)\n",
    "lm.fit(x_train, y_train)"
   ]
  },
  {
   "cell_type": "code",
   "execution_count": 62,
   "id": "c73ca40e",
   "metadata": {
    "scrolled": false
   },
   "outputs": [
    {
     "data": {
      "text/plain": [
       "0.8942708913642549"
      ]
     },
     "execution_count": 62,
     "metadata": {},
     "output_type": "execute_result"
    }
   ],
   "source": [
    "lm.score(x_train, y_train)"
   ]
  },
  {
   "cell_type": "code",
   "execution_count": 63,
   "id": "86e56ed7",
   "metadata": {
    "scrolled": false
   },
   "outputs": [
    {
     "data": {
      "text/plain": [
       "0.9047458084041017"
      ]
     },
     "execution_count": 63,
     "metadata": {},
     "output_type": "execute_result"
    }
   ],
   "source": [
    "lm.score(x_test, y_test)"
   ]
  },
  {
   "cell_type": "code",
   "execution_count": 64,
   "id": "904016c8",
   "metadata": {
    "scrolled": false
   },
   "outputs": [
    {
     "name": "stdout",
     "output_type": "stream",
     "text": [
      "Train Score:  0.8942708913642549\n",
      "Test score:  0.9047458084041017\n",
      "mse_train:  2.8643262227914277\n",
      "rmse_train 1.692432043773524\n",
      "mse_train:  2.3485492463118307\n",
      "rmse_train 1.53249771494506\n"
     ]
    }
   ],
   "source": [
    "ytr_pred=lm.predict(x_train)\n",
    "yts_pred=lm.predict(x_test)\n",
    "mse = mean_squared_error(ytr_pred,y_train)\n",
    "print('Train Score: ', lm.score(x_train, y_train))\n",
    "print('Test score: ', lm.score(x_test, y_test))\n",
    "print('mse_train: ', mse)\n",
    "print('rmse_train', np.sqrt(mse))\n",
    "mse_test=mean_squared_error(yts_pred,y_test)\n",
    "print('mse_train: ', mse_test)\n",
    "print('rmse_train', np.sqrt(mse_test))"
   ]
  },
  {
   "cell_type": "code",
   "execution_count": 65,
   "id": "9092c6f7",
   "metadata": {
    "scrolled": false,
    "slideshow": {
     "slide_type": "-"
    }
   },
   "outputs": [],
   "source": [
    "model3_save=pickle.dumps(lm)"
   ]
  },
  {
   "cell_type": "markdown",
   "id": "15fbf638",
   "metadata": {},
   "source": [
    "# All the models have been saved in pickle"
   ]
  },
  {
   "cell_type": "markdown",
   "id": "b0b4cd45",
   "metadata": {
    "slideshow": {
     "slide_type": "-"
    }
   },
   "source": [
    "# Conclusion\n",
    "There are 3 successful models. The best models with right fit are:                                                         1. Model 1                                                                                                                     Random Forest Regressor With Grid Search CV Hyper Parameter Tuning                                                     Train Score:  0.9976271247396712,                                                                                           \n",
    "Test Score:  0.9836631982186603,                                                                                           \n",
    "MSE Train:  0.06428398876404467,                                                                                           \n",
    "RMSE Train:  0.2535428736210992,                                                                                           \n",
    "MSE Test:  0.4027936499999991,                                                                                             \n",
    "RMSE Train:  0.6346602634480901.                                                                                                                                                                                      =========================================================================================================================== \n",
    "Model 2:                                                                                                                   \n",
    "Random Forest Regressor With Default Hyper Parameter Tuning                                                                 Train Score: 0.997412413698488,                                                                                            \n",
    "Test Score:  0.9808599243173965,                                                                                            \n",
    "Model Risk: 0.00951973949366438,                                                                                           \n",
    "Cross Validation Score: 0.98                                                                                 \n",
    "============================================================================================================================\n",
    "Model 4:                                                                                                                   Extra Trees Regressor With Grid Search CV Hyper Parameter Tuning                                                            Train Score:  0.994689077751013,                                                                                           \n",
    "Test score:  0.9885970327227892,                                                                                           \n",
    "mse_train:  0.14387914606741467,                                                                                           \n",
    "rmse_train 0.37931404675732044,                                                                                             \n",
    "mse_train:  0.2811469999999979,                                                                                             \n",
    "rmse_train 0.5302329676660986"
   ]
  },
  {
   "cell_type": "markdown",
   "id": "d43b8ea9",
   "metadata": {},
   "source": [
    "# Credits:\n",
    "DataTrained and Python Documentations."
   ]
  },
  {
   "cell_type": "code",
   "execution_count": null,
   "id": "baab096a",
   "metadata": {},
   "outputs": [],
   "source": []
  }
 ],
 "metadata": {
  "celltoolbar": "Slideshow",
  "kernelspec": {
   "display_name": "Python 3 (ipykernel)",
   "language": "python",
   "name": "python3"
  },
  "language_info": {
   "codemirror_mode": {
    "name": "ipython",
    "version": 3
   },
   "file_extension": ".py",
   "mimetype": "text/x-python",
   "name": "python",
   "nbconvert_exporter": "python",
   "pygments_lexer": "ipython3",
   "version": "3.9.7"
  },
  "widgets": {
   "application/vnd.jupyter.widget-state+json": {
    "state": {},
    "version_major": 2,
    "version_minor": 0
   }
  }
 },
 "nbformat": 4,
 "nbformat_minor": 5
}
